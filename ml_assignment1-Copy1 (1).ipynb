{
 "cells": [
  {
   "cell_type": "markdown",
   "id": "6629896e-5521-4c59-811b-120afc76a056",
   "metadata": {},
   "source": [
    "# QD- E=plain the following with an Example\n",
    "a) Artificial IntKlli*KncJ\n",
    "b) MachinK LKarnin,\n",
    "c) DKKp LKarning"
   ]
  },
  {
   "cell_type": "raw",
   "id": "89b2e8fa-a159-464a-810d-67317510e10c",
   "metadata": {},
   "source": [
    "AI-AI is a smart application that perform their own task without human interaction\n",
    "ex. like self driving cars,\n",
    "robots\n",
    "ML- it provide stat tools to analyze supervised and trained models, forecasting\n",
    "ex. recomendation system \n",
    "in amaxon.com\n",
    "netflix\n",
    "youtube\n",
    "DL-deep learning is the another subset of machine learning its main purpose to mimic the human brain it works ro read human brain\n",
    "it helps to create machine recomendation"
   ]
  },
  {
   "cell_type": "markdown",
   "id": "77ee4f86-76d3-49da-84a6-e8b4f9b3d764",
   "metadata": {},
   "source": [
    "# Q2- What is supervised learning List some examples of supervised learnin."
   ]
  },
  {
   "cell_type": "raw",
   "id": "5ed33e5b-fd5f-42aa-88bd-aee60c3fa22e",
   "metadata": {},
   "source": [
    "superwised ml is the known dataset that work on it is a classification base machine learning \n",
    "and its output will be catagorical like yes,no pass,fail\n",
    "ex- of supervised you have a robo that tell you yes or no on the data"
   ]
  },
  {
   "cell_type": "markdown",
   "id": "8ba38542-3e13-4cbb-baa1-0874a373afb0",
   "metadata": {
    "tags": []
   },
   "source": [
    "# Q3- What is unsupervised learnig List some Kxamples of unsupKrvised learnin."
   ]
  },
  {
   "cell_type": "raw",
   "id": "f69b369e-59f7-4eef-b8dd-982956bbef3e",
   "metadata": {},
   "source": [
    "Unsupervised learning utilizes AI-driven algorithms to analyze and cluster unlabeled data sets. This gives unsupervised machine learning models the ability to discover hidden patterns within the data without the need for human intervention\n",
    "it works on principle of clustor or group of dataset \n",
    "ex you can see your customers with the money expendature\n",
    "we dont know output we just group their data"
   ]
  },
  {
   "cell_type": "markdown",
   "id": "d466d6a6-25b4-457e-8878-fd9fdb958948",
   "metadata": {},
   "source": [
    "# Q4- What is the differenct between AI, ML, DL, and DS?"
   ]
  },
  {
   "cell_type": "raw",
   "id": "939e1e51-661e-4b94-b60d-327628182278",
   "metadata": {},
   "source": [
    "AI is the combination of all the technology mean it is final product made by using like ml,dl,nlp and many other\n",
    "ML is a analyaze and train the model\n",
    "DL is amain moto is to read the human mind\n",
    "\n",
    "AI-AI is a smart application that perform their own task without human interaction\n",
    "ex. like self driving cars,\n",
    "robots\n",
    "ML- it provide stat tools to analyze supervised and trained models, forecasting\n",
    "ex. recomendation system \n",
    "in amaxon.com\n",
    "netflix\n",
    "youtube\n",
    "DL-deep learning is the another subset of machine learning its main purpose to mimic the human brain it works ro read human brain\n",
    "it helps to create machine recomendation"
   ]
  },
  {
   "cell_type": "markdown",
   "id": "c1d86166-3913-41b3-afc0-91fb0b2686b4",
   "metadata": {},
   "source": [
    "# Q5- What are the main differences between supervised, unsupervised, and semi-supervised learning"
   ]
  },
  {
   "cell_type": "raw",
   "id": "9b6e9513-38df-4083-9f62-2d354a9f3845",
   "metadata": {},
   "source": [
    "In supervised learning, the algorithm “learns” from the training dataset by iteratively making predictions on the data and adjusting for the correct answer. While supervised learning models tend to be more accurate than unsupervised learning models, they require upfront human intervention to label the data appropriately. For example, a supervised learning model can predict how long your commute will be based on the time of day, weather conditions and so on. But first, you’ll have to train it to know that rainy weather extends the driving time.\n",
    "\n",
    "Unsupervised learning models, in contrast, work on their own to discover the inherent structure of unlabeled data. Note that they still require some human intervention for validating output variables. For example, an unsupervised learning model can identify that online shoppers often purchase groups of products at the same time. However, a data analyst would need to validate that it makes sense for a recommendation engine to group baby clothes with an order of diapers, applesauce and sippy cups.\n",
    "\n"
   ]
  },
  {
   "cell_type": "markdown",
   "id": "5d0ab90a-87df-44f1-b1c2-2bedfe715ac3",
   "metadata": {},
   "source": [
    "# Q6- What is train, test and validation split? Explain the importance of each them."
   ]
  },
  {
   "cell_type": "raw",
   "id": "b19a8f01-f338-477a-88ac-848cd45ca5ec",
   "metadata": {},
   "source": [
    "train is the raw data to be provide for to machine to analize for ex we provide books to the students like than we provide a dataset to analize\n",
    "validation is the extra data that provide to machine that exta data help to become more analyze and more accurate\n",
    "test data is hiding data that we want to test ex.the students exam question paper"
   ]
  },
  {
   "cell_type": "markdown",
   "id": "159005a2-1c25-40e2-b709-16debd416fd9",
   "metadata": {},
   "source": [
    "# Q7- How can unsupervised learning be used in anomaly detection?"
   ]
  },
  {
   "cell_type": "raw",
   "id": "aa971e23-aeae-4815-9414-f7e4a91231cc",
   "metadata": {},
   "source": [
    "anomaly is the outliers Unsupervised learning can be used in anomaly detection by identifying normal patterns within a data sample and then detecting outliers based on the natural characteristics of the data set itself1. In anomaly detection, unsupervised learning is used as you do not pass any labelled values. You train using only the 'non-anomalous' data, select epsilon values, and evaluate with a numerical value (such as F1 score) so that your model will get a good balance of true positives2."
   ]
  },
  {
   "cell_type": "markdown",
   "id": "779424d1-b0d9-4b08-a0e8-8e602d1874c2",
   "metadata": {},
   "source": [
    "# Q8- List down some commonly used supervised learning algorithms and unsupervised learning algorithms."
   ]
  },
  {
   "cell_type": "raw",
   "id": "dd57ee08-a7c2-4d90-9216-6eab71da4765",
   "metadata": {},
   "source": [
    "1\n",
    "2unsupervised\n",
    "k-means for clustering problems.\n",
    "Apriori algorithm for association rule learning problems."
   ]
  }
 ],
 "metadata": {
  "kernelspec": {
   "display_name": "Python 3 (ipykernel)",
   "language": "python",
   "name": "python3"
  },
  "language_info": {
   "codemirror_mode": {
    "name": "ipython",
    "version": 3
   },
   "file_extension": ".py",
   "mimetype": "text/x-python",
   "name": "python",
   "nbconvert_exporter": "python",
   "pygments_lexer": "ipython3",
   "version": "3.10.8"
  }
 },
 "nbformat": 4,
 "nbformat_minor": 5
}
